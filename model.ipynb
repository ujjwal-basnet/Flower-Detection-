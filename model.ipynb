{
 "cells": [
  {
   "cell_type": "code",
   "execution_count": 60,
   "metadata": {},
   "outputs": [],
   "source": [
    "#importing necessary libary \n",
    "import pandas as pd \n",
    "from sklearn.preprocessing import StandardScaler \n",
    "from sklearn.model_selection import train_test_split \n",
    "from sklearn.ensemble import RandomForestClassifier\n",
    "import pickle"
   ]
  },
  {
   "cell_type": "code",
   "execution_count": 61,
   "metadata": {},
   "outputs": [],
   "source": [
    "#load csv file \n",
    "df = pd.read_csv(\"iris.csv\")\n"
   ]
  },
  {
   "cell_type": "code",
   "execution_count": 62,
   "metadata": {},
   "outputs": [
    {
     "data": {
      "text/html": [
       "<div>\n",
       "<style scoped>\n",
       "    .dataframe tbody tr th:only-of-type {\n",
       "        vertical-align: middle;\n",
       "    }\n",
       "\n",
       "    .dataframe tbody tr th {\n",
       "        vertical-align: top;\n",
       "    }\n",
       "\n",
       "    .dataframe thead th {\n",
       "        text-align: right;\n",
       "    }\n",
       "</style>\n",
       "<table border=\"1\" class=\"dataframe\">\n",
       "  <thead>\n",
       "    <tr style=\"text-align: right;\">\n",
       "      <th></th>\n",
       "      <th>Sepal_Length</th>\n",
       "      <th>Sepal_Width</th>\n",
       "      <th>Petal_Length</th>\n",
       "      <th>Petal_Width</th>\n",
       "      <th>Class</th>\n",
       "    </tr>\n",
       "  </thead>\n",
       "  <tbody>\n",
       "    <tr>\n",
       "      <th>145</th>\n",
       "      <td>6.7</td>\n",
       "      <td>3.0</td>\n",
       "      <td>5.2</td>\n",
       "      <td>2.3</td>\n",
       "      <td>Virginica</td>\n",
       "    </tr>\n",
       "    <tr>\n",
       "      <th>146</th>\n",
       "      <td>6.3</td>\n",
       "      <td>2.5</td>\n",
       "      <td>5.0</td>\n",
       "      <td>1.9</td>\n",
       "      <td>Virginica</td>\n",
       "    </tr>\n",
       "    <tr>\n",
       "      <th>147</th>\n",
       "      <td>6.5</td>\n",
       "      <td>3.0</td>\n",
       "      <td>5.2</td>\n",
       "      <td>2.0</td>\n",
       "      <td>Virginica</td>\n",
       "    </tr>\n",
       "    <tr>\n",
       "      <th>148</th>\n",
       "      <td>6.2</td>\n",
       "      <td>3.4</td>\n",
       "      <td>5.4</td>\n",
       "      <td>2.3</td>\n",
       "      <td>Virginica</td>\n",
       "    </tr>\n",
       "    <tr>\n",
       "      <th>149</th>\n",
       "      <td>5.9</td>\n",
       "      <td>3.0</td>\n",
       "      <td>5.1</td>\n",
       "      <td>1.8</td>\n",
       "      <td>Virginica</td>\n",
       "    </tr>\n",
       "  </tbody>\n",
       "</table>\n",
       "</div>"
      ],
      "text/plain": [
       "     Sepal_Length  Sepal_Width  Petal_Length  Petal_Width      Class\n",
       "145           6.7          3.0           5.2          2.3  Virginica\n",
       "146           6.3          2.5           5.0          1.9  Virginica\n",
       "147           6.5          3.0           5.2          2.0  Virginica\n",
       "148           6.2          3.4           5.4          2.3  Virginica\n",
       "149           5.9          3.0           5.1          1.8  Virginica"
      ]
     },
     "execution_count": 62,
     "metadata": {},
     "output_type": "execute_result"
    }
   ],
   "source": [
    "#last 10 data \n",
    "df.tail()"
   ]
  },
  {
   "cell_type": "code",
   "execution_count": 63,
   "metadata": {},
   "outputs": [],
   "source": [
    "X = df[[\"Sepal_Length\", \"Sepal_Width\", \"Petal_Length\", \"Petal_Width\"]]\n",
    "y = df[\"Class\"]"
   ]
  },
  {
   "cell_type": "code",
   "execution_count": 64,
   "metadata": {},
   "outputs": [],
   "source": [
    "#train test split \n",
    "X_train , X_test , y_train , y_test = train_test_split(X , y , test_size = 0.2 , random_state = 50 )\n"
   ]
  },
  {
   "cell_type": "code",
   "execution_count": 65,
   "metadata": {},
   "outputs": [
    {
     "name": "stdout",
     "output_type": "stream",
     "text": [
      "<class 'pandas.core.frame.DataFrame'>\n",
      "RangeIndex: 150 entries, 0 to 149\n",
      "Data columns (total 5 columns):\n",
      " #   Column        Non-Null Count  Dtype  \n",
      "---  ------        --------------  -----  \n",
      " 0   Sepal_Length  150 non-null    float64\n",
      " 1   Sepal_Width   150 non-null    float64\n",
      " 2   Petal_Length  150 non-null    float64\n",
      " 3   Petal_Width   150 non-null    float64\n",
      " 4   Class         150 non-null    object \n",
      "dtypes: float64(4), object(1)\n",
      "memory usage: 6.0+ KB\n"
     ]
    }
   ],
   "source": [
    "df.info()"
   ]
  },
  {
   "cell_type": "code",
   "execution_count": 66,
   "metadata": {},
   "outputs": [],
   "source": [
    "import seaborn as sns \n"
   ]
  },
  {
   "cell_type": "code",
   "execution_count": 67,
   "metadata": {},
   "outputs": [
    {
     "data": {
      "text/plain": [
       "<seaborn.axisgrid.FacetGrid at 0x208915895e0>"
      ]
     },
     "execution_count": 67,
     "metadata": {},
     "output_type": "execute_result"
    }
   ],
   "source": [
    "sns.displot(df)"
   ]
  },
  {
   "cell_type": "code",
   "execution_count": 68,
   "metadata": {},
   "outputs": [
    {
     "data": {
      "text/html": [
       "<div>\n",
       "<style scoped>\n",
       "    .dataframe tbody tr th:only-of-type {\n",
       "        vertical-align: middle;\n",
       "    }\n",
       "\n",
       "    .dataframe tbody tr th {\n",
       "        vertical-align: top;\n",
       "    }\n",
       "\n",
       "    .dataframe thead th {\n",
       "        text-align: right;\n",
       "    }\n",
       "</style>\n",
       "<table border=\"1\" class=\"dataframe\">\n",
       "  <thead>\n",
       "    <tr style=\"text-align: right;\">\n",
       "      <th></th>\n",
       "      <th>Sepal_Length</th>\n",
       "      <th>Sepal_Width</th>\n",
       "      <th>Petal_Length</th>\n",
       "      <th>Petal_Width</th>\n",
       "    </tr>\n",
       "  </thead>\n",
       "  <tbody>\n",
       "    <tr>\n",
       "      <th>125</th>\n",
       "      <td>7.2</td>\n",
       "      <td>3.2</td>\n",
       "      <td>6.0</td>\n",
       "      <td>1.8</td>\n",
       "    </tr>\n",
       "    <tr>\n",
       "      <th>98</th>\n",
       "      <td>5.1</td>\n",
       "      <td>2.5</td>\n",
       "      <td>3.0</td>\n",
       "      <td>1.1</td>\n",
       "    </tr>\n",
       "    <tr>\n",
       "      <th>73</th>\n",
       "      <td>6.1</td>\n",
       "      <td>2.8</td>\n",
       "      <td>4.7</td>\n",
       "      <td>1.2</td>\n",
       "    </tr>\n",
       "    <tr>\n",
       "      <th>144</th>\n",
       "      <td>6.7</td>\n",
       "      <td>3.3</td>\n",
       "      <td>5.7</td>\n",
       "      <td>2.5</td>\n",
       "    </tr>\n",
       "    <tr>\n",
       "      <th>21</th>\n",
       "      <td>5.1</td>\n",
       "      <td>3.7</td>\n",
       "      <td>1.5</td>\n",
       "      <td>0.4</td>\n",
       "    </tr>\n",
       "    <tr>\n",
       "      <th>...</th>\n",
       "      <td>...</td>\n",
       "      <td>...</td>\n",
       "      <td>...</td>\n",
       "      <td>...</td>\n",
       "    </tr>\n",
       "    <tr>\n",
       "      <th>70</th>\n",
       "      <td>5.9</td>\n",
       "      <td>3.2</td>\n",
       "      <td>4.8</td>\n",
       "      <td>1.8</td>\n",
       "    </tr>\n",
       "    <tr>\n",
       "      <th>132</th>\n",
       "      <td>6.4</td>\n",
       "      <td>2.8</td>\n",
       "      <td>5.6</td>\n",
       "      <td>2.2</td>\n",
       "    </tr>\n",
       "    <tr>\n",
       "      <th>33</th>\n",
       "      <td>5.5</td>\n",
       "      <td>4.2</td>\n",
       "      <td>1.4</td>\n",
       "      <td>0.2</td>\n",
       "    </tr>\n",
       "    <tr>\n",
       "      <th>109</th>\n",
       "      <td>7.2</td>\n",
       "      <td>3.6</td>\n",
       "      <td>6.1</td>\n",
       "      <td>2.5</td>\n",
       "    </tr>\n",
       "    <tr>\n",
       "      <th>139</th>\n",
       "      <td>6.9</td>\n",
       "      <td>3.1</td>\n",
       "      <td>5.4</td>\n",
       "      <td>2.1</td>\n",
       "    </tr>\n",
       "  </tbody>\n",
       "</table>\n",
       "<p>120 rows × 4 columns</p>\n",
       "</div>"
      ],
      "text/plain": [
       "     Sepal_Length  Sepal_Width  Petal_Length  Petal_Width\n",
       "125           7.2          3.2           6.0          1.8\n",
       "98            5.1          2.5           3.0          1.1\n",
       "73            6.1          2.8           4.7          1.2\n",
       "144           6.7          3.3           5.7          2.5\n",
       "21            5.1          3.7           1.5          0.4\n",
       "..            ...          ...           ...          ...\n",
       "70            5.9          3.2           4.8          1.8\n",
       "132           6.4          2.8           5.6          2.2\n",
       "33            5.5          4.2           1.4          0.2\n",
       "109           7.2          3.6           6.1          2.5\n",
       "139           6.9          3.1           5.4          2.1\n",
       "\n",
       "[120 rows x 4 columns]"
      ]
     },
     "execution_count": 68,
     "metadata": {},
     "output_type": "execute_result"
    }
   ],
   "source": [
    "X_train"
   ]
  },
  {
   "cell_type": "code",
   "execution_count": 69,
   "metadata": {},
   "outputs": [],
   "source": [
    "#feature scalling\n",
    "sc = StandardScaler()\n",
    "X_train = sc.fit_transform(X_train )\n",
    "X_test  = sc.transform(X_test) "
   ]
  },
  {
   "cell_type": "code",
   "execution_count": 70,
   "metadata": {},
   "outputs": [
    {
     "data": {
      "text/plain": [
       "array([[ 1.71370359,  0.31944112,  1.30758315,  0.81911343],\n",
       "       [-0.84013026, -1.29700793, -0.40416206, -0.10693675],\n",
       "       [ 0.37598109, -0.60424405,  0.56582689,  0.02535614],\n",
       "       [ 1.10564791,  0.55036241,  1.13640863,  1.74516361],\n",
       "       [-0.84013026,  1.47404758, -1.26003467, -1.03298693],\n",
       "       [-1.44818594,  0.08851983, -1.26003467, -1.29757269],\n",
       "       [-0.71851913, -0.83516534,  0.1093615 ,  0.2899419 ],\n",
       "       [ 0.25436996, -1.9897718 ,  0.73700141,  0.42223478],\n",
       "       [-0.47529686, -0.14240146,  0.45171054,  0.42223478],\n",
       "       [-0.9617414 ,  0.78128371, -1.26003467, -1.29757269],\n",
       "       [-1.56979708, -1.75885051, -1.37415102, -1.16527981],\n",
       "       [-1.08335253, -1.52792922, -0.23298754, -0.23922963],\n",
       "       [ 0.86242564, -0.14240146,  1.1934668 ,  1.34828496],\n",
       "       [-1.69140821, -0.37332276, -1.31709284, -1.29757269],\n",
       "       [ 1.59209245, -0.14240146,  1.25052497,  1.21599208],\n",
       "       [-0.84013026,  1.012205  , -1.31709284, -1.16527981],\n",
       "       [-1.69140821,  0.31944112, -1.37415102, -1.29757269],\n",
       "       [-0.11046345,  1.70496888, -1.14591832, -1.16527981],\n",
       "       [ 0.61920337, -1.29700793,  0.73700141,  0.95140631],\n",
       "       [ 0.01114769, -0.60424405,  0.79405958,  1.61287073],\n",
       "       [ 0.98403677, -0.14240146,  0.39465237,  0.2899419 ],\n",
       "       [-0.47529686,  1.93589017, -1.14591832, -1.03298693],\n",
       "       [-0.11046345,  3.09049663, -1.26003467, -1.03298693],\n",
       "       [ 0.37598109, -0.37332276,  0.56582689,  0.2899419 ],\n",
       "       [ 0.01114769, -0.83516534,  0.79405958,  0.95140631],\n",
       "       [-0.11046345, -0.60424405,  0.22347785,  0.15764902],\n",
       "       [ 1.47048132,  0.31944112,  0.56582689,  0.2899419 ],\n",
       "       [-0.71851913,  1.012205  , -1.26003467, -1.29757269],\n",
       "       [-1.69140821, -0.14240146, -1.37415102, -1.29757269],\n",
       "       [ 2.32175927, -0.60424405,  1.70699036,  1.0836992 ],\n",
       "       [ 2.32175927,  1.70496888,  1.70699036,  1.34828496],\n",
       "       [ 0.7408145 , -0.37332276,  0.33759419,  0.15764902],\n",
       "       [ 0.61920337, -0.37332276,  1.07935045,  0.81911343],\n",
       "       [-0.9617414 ,  1.012205  , -1.37415102, -1.16527981],\n",
       "       [-1.08335253,  1.24312629, -1.31709284, -1.42986557],\n",
       "       [ 0.86242564, -0.14240146,  1.02229228,  0.81911343],\n",
       "       [ 0.25436996, -0.37332276,  0.45171054,  0.42223478],\n",
       "       [-0.9617414 ,  1.24312629, -1.31709284, -1.29757269],\n",
       "       [-0.35368572, -1.75885051,  0.16641967,  0.15764902],\n",
       "       [-0.84013026,  1.70496888, -1.03180197, -1.03298693],\n",
       "       [ 1.83531472, -0.37332276,  1.47875767,  0.81911343],\n",
       "       [ 0.7408145 ,  0.08851983,  1.02229228,  0.81911343],\n",
       "       [ 1.10564791,  0.08851983,  0.39465237,  0.2899419 ],\n",
       "       [ 0.7408145 , -0.60424405,  1.07935045,  1.21599208],\n",
       "       [-0.23207458, -1.29700793,  0.1093615 , -0.10693675],\n",
       "       [-1.44818594,  0.31944112, -1.31709284, -1.29757269],\n",
       "       [ 0.61920337, -1.75885051,  0.39465237,  0.15764902],\n",
       "       [-0.71851913,  2.39773276, -1.26003467, -1.42986557],\n",
       "       [-0.35368572, -1.29700793,  0.16641967,  0.15764902],\n",
       "       [ 1.34887018,  0.08851983,  0.67994324,  0.42223478],\n",
       "       [-1.32657481,  0.31944112, -1.2029765 , -1.29757269],\n",
       "       [-1.08335253,  0.08851983, -1.26003467, -1.42986557],\n",
       "       [ 0.13275882, -0.14240146,  0.28053602,  0.42223478],\n",
       "       [-1.08335253, -0.14240146, -1.31709284, -1.29757269],\n",
       "       [ 0.25436996, -0.83516534,  0.79405958,  0.55452767],\n",
       "       [-1.20496367, -0.14240146, -1.31709284, -1.16527981],\n",
       "       [-0.35368572, -1.06608663,  0.39465237,  0.02535614],\n",
       "       [ 0.37598109, -0.14240146,  0.67994324,  0.81911343],\n",
       "       [ 1.71370359, -0.14240146,  1.1934668 ,  0.55452767],\n",
       "       [ 2.32175927, -0.14240146,  1.36464132,  1.48057784],\n",
       "       [ 0.98403677, -0.37332276,  0.50876872,  0.15764902],\n",
       "       [ 0.61920337, -0.83516534,  0.67994324,  0.81911343],\n",
       "       [-0.35368572,  1.012205  , -1.37415102, -1.29757269],\n",
       "       [ 0.01114769, -0.83516534,  0.79405958,  0.95140631],\n",
       "       [-1.81301935, -0.14240146, -1.48826736, -1.42986557],\n",
       "       [ 0.25436996, -1.9897718 ,  0.16641967, -0.23922963],\n",
       "       [-0.84013026,  1.70496888, -1.2029765 , -1.29757269],\n",
       "       [ 0.61920337,  0.78128371,  1.07935045,  1.61287073],\n",
       "       [-1.20496367,  0.78128371, -1.03180197, -1.29757269],\n",
       "       [-0.71851913,  0.78128371, -1.31709284, -1.29757269],\n",
       "       [ 0.25436996, -0.14240146,  0.62288506,  0.81911343],\n",
       "       [ 0.13275882, -0.14240146,  0.79405958,  0.81911343],\n",
       "       [ 1.34887018,  0.31944112,  1.13640863,  1.48057784],\n",
       "       [ 1.10564791,  0.55036241,  1.13640863,  1.21599208],\n",
       "       [-1.20496367,  0.78128371, -1.2029765 , -1.29757269],\n",
       "       [ 0.49759223,  0.78128371,  0.96523411,  1.48057784],\n",
       "       [-0.23207458, -0.83516534,  0.28053602,  0.15764902],\n",
       "       [ 1.10564791, -1.29700793,  1.1934668 ,  0.81911343],\n",
       "       [-0.9617414 , -1.75885051, -0.23298754, -0.23922963],\n",
       "       [-0.84013026,  1.012205  , -1.31709284, -1.29757269],\n",
       "       [ 0.7408145 ,  0.31944112,  0.45171054,  0.42223478],\n",
       "       [ 0.86242564,  0.31944112,  0.79405958,  1.0836992 ],\n",
       "       [-0.47529686,  1.47404758, -1.26003467, -1.29757269],\n",
       "       [ 0.49759223, -0.60424405,  0.62288506,  0.81911343],\n",
       "       [ 0.01114769, -0.83516534,  0.22347785, -0.23922963],\n",
       "       [-0.11046345, -0.37332276,  0.28053602,  0.15764902],\n",
       "       [ 1.22725904, -0.60424405,  0.62288506,  0.2899419 ],\n",
       "       [-0.23207458, -0.14240146,  0.45171054,  0.42223478],\n",
       "       [-0.23207458, -0.60424405,  0.67994324,  1.0836992 ],\n",
       "       [-0.9617414 , -2.45161439, -0.1188712 , -0.23922963],\n",
       "       [-0.9617414 ,  0.78128371, -1.2029765 , -1.03298693],\n",
       "       [ 0.7408145 ,  0.31944112,  0.90817593,  1.48057784],\n",
       "       [-0.9617414 ,  0.31944112, -1.43120919, -1.29757269],\n",
       "       [ 2.20014813, -0.14240146,  1.64993219,  1.21599208],\n",
       "       [-1.20496367,  0.08851983, -1.2029765 , -1.29757269],\n",
       "       [-0.11046345, -1.06608663, -0.1188712 , -0.23922963],\n",
       "       [ 1.34887018,  0.08851983,  0.79405958,  1.48057784],\n",
       "       [-0.84013026,  1.70496888, -1.26003467, -1.16527981],\n",
       "       [-1.44818594,  0.78128371, -1.31709284, -1.16527981],\n",
       "       [-0.23207458, -0.37332276, -0.06181302,  0.15764902],\n",
       "       [-1.08335253, -1.29700793,  0.45171054,  0.68682055],\n",
       "       [ 0.25436996,  0.78128371,  0.45171054,  0.55452767],\n",
       "       [-0.9617414 ,  0.55036241, -1.31709284, -1.29757269],\n",
       "       [-0.47529686,  0.78128371, -1.26003467, -1.03298693],\n",
       "       [-0.9617414 ,  1.012205  , -1.2029765 , -0.76840116],\n",
       "       [ 0.37598109, -1.06608663,  1.07935045,  0.2899419 ],\n",
       "       [ 0.37598109, -0.14240146,  0.50876872,  0.2899419 ],\n",
       "       [ 0.01114769, -1.06608663,  0.16641967,  0.02535614],\n",
       "       [ 0.7408145 , -0.83516534,  0.90817593,  0.95140631],\n",
       "       [ 0.37598109, -0.60424405,  0.16641967,  0.15764902],\n",
       "       [-0.11046345, -0.14240146,  0.28053602,  0.02535614],\n",
       "       [-1.32657481,  0.31944112, -1.37415102, -1.29757269],\n",
       "       [ 0.61920337, -0.60424405,  0.79405958,  0.42223478],\n",
       "       [-1.44818594,  1.24312629, -1.54532554, -1.29757269],\n",
       "       [ 1.10564791, -0.14240146,  0.85111776,  1.48057784],\n",
       "       [ 0.13275882,  0.31944112,  0.62288506,  0.81911343],\n",
       "       [ 0.7408145 , -0.60424405,  1.07935045,  1.34828496],\n",
       "       [-0.35368572,  2.62865405, -1.31709284, -1.29757269],\n",
       "       [ 1.71370359,  1.24312629,  1.36464132,  1.74516361],\n",
       "       [ 1.34887018,  0.08851983,  0.96523411,  1.21599208]])"
      ]
     },
     "execution_count": 70,
     "metadata": {},
     "output_type": "execute_result"
    }
   ],
   "source": [
    "X_train"
   ]
  },
  {
   "cell_type": "code",
   "execution_count": 71,
   "metadata": {},
   "outputs": [
    {
     "data": {
      "text/plain": [
       "RandomForestClassifier()"
      ]
     },
     "execution_count": 71,
     "metadata": {},
     "output_type": "execute_result"
    }
   ],
   "source": [
    "#using random forest \n",
    "clf = RandomForestClassifier()\n",
    "\n",
    "#fit the model \n",
    "clf .fit(X_train , y_train)\n"
   ]
  },
  {
   "cell_type": "code",
   "execution_count": 74,
   "metadata": {},
   "outputs": [],
   "source": [
    "#making pickle file \n",
    "\n",
    "pickle.dump( clf , open(\"model.pkl\" , \"wb\"))\n"
   ]
  },
  {
   "cell_type": "code",
   "execution_count": 76,
   "metadata": {},
   "outputs": [],
   "source": [
    "#prediction \n",
    "y = clf.predict(X_train)"
   ]
  },
  {
   "cell_type": "code",
   "execution_count": null,
   "metadata": {},
   "outputs": [],
   "source": []
  },
  {
   "cell_type": "code",
   "execution_count": null,
   "metadata": {},
   "outputs": [],
   "source": []
  },
  {
   "cell_type": "code",
   "execution_count": null,
   "metadata": {},
   "outputs": [],
   "source": []
  },
  {
   "cell_type": "code",
   "execution_count": null,
   "metadata": {},
   "outputs": [],
   "source": []
  },
  {
   "cell_type": "code",
   "execution_count": null,
   "metadata": {},
   "outputs": [],
   "source": []
  },
  {
   "cell_type": "code",
   "execution_count": null,
   "metadata": {},
   "outputs": [],
   "source": []
  },
  {
   "cell_type": "code",
   "execution_count": null,
   "metadata": {},
   "outputs": [],
   "source": []
  },
  {
   "cell_type": "code",
   "execution_count": null,
   "metadata": {},
   "outputs": [],
   "source": []
  },
  {
   "cell_type": "code",
   "execution_count": null,
   "metadata": {},
   "outputs": [],
   "source": []
  },
  {
   "cell_type": "code",
   "execution_count": null,
   "metadata": {},
   "outputs": [],
   "source": []
  },
  {
   "cell_type": "code",
   "execution_count": null,
   "metadata": {},
   "outputs": [],
   "source": []
  }
 ],
 "metadata": {
  "kernelspec": {
   "display_name": "Python 3",
   "language": "python",
   "name": "python3"
  },
  "language_info": {
   "codemirror_mode": {
    "name": "ipython",
    "version": 3
   },
   "file_extension": ".py",
   "mimetype": "text/x-python",
   "name": "python",
   "nbconvert_exporter": "python",
   "pygments_lexer": "ipython3",
   "version": "3.9.13"
  },
  "orig_nbformat": 4
 },
 "nbformat": 4,
 "nbformat_minor": 2
}
